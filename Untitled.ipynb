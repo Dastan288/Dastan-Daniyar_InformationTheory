{
 "cells": [
  {
   "cell_type": "markdown",
   "metadata": {},
   "source": [
    "# Dastan Kapizov & Daniyar Shukuraliyev BDA 1904"
   ]
  },
  {
   "cell_type": "code",
   "execution_count": 1,
   "metadata": {},
   "outputs": [
    {
     "data": {
      "text/plain": [
       "{'D': 'frequency: 3 probability: 0.0968',\n",
       " 'A': 'frequency: 3 probability: 0.0968',\n",
       " 'a': 'frequency: 8 probability: 0.2581',\n",
       " 's': 'frequency: 1 probability: 0.0323',\n",
       " 'S': 'frequency: 2 probability: 0.0645',\n",
       " 'N': 'frequency: 1 probability: 0.0323',\n",
       " 'i': 'frequency: 3 probability: 0.0968',\n",
       " 'y': 'frequency: 2 probability: 0.0645',\n",
       " 'r': 'frequency: 1 probability: 0.0323',\n",
       " ' ': 'frequency: 2 probability: 0.0645',\n",
       " 'B': 'frequency: 1 probability: 0.0323',\n",
       " '1': 'frequency: 1 probability: 0.0323',\n",
       " '9': 'frequency: 1 probability: 0.0323',\n",
       " '0': 'frequency: 1 probability: 0.0323',\n",
       " '4': 'frequency: 1 probability: 0.0323'}"
      ]
     },
     "execution_count": 1,
     "metadata": {},
     "output_type": "execute_result"
    }
   ],
   "source": [
    "def find_probabilities(text):\n",
    "    len_text = int(len(text))    \n",
    "    prob_chars = {}\n",
    "\n",
    "    for i in text:\n",
    "        if i in prob_chars:\n",
    "            prob_chars[i] += 1\n",
    "        else:\n",
    "            prob_chars[i] = 1\n",
    "    for values in prob_chars:\n",
    "        frequency = prob_chars[values]\n",
    "        P = round((prob_chars[values] / len_text), 4)\n",
    "        prob_chars[values] = 'frequency: ' + str(frequency) +' probability: '+ str(P)\n",
    "    return prob_chars\n",
    "\n",
    "\n",
    "text1 = 'DAaaaaAsSSDaaNiiiyyaar BDA 1904'\n",
    "find_probabilities(text1)"
   ]
  },
  {
   "cell_type": "code",
   "execution_count": 2,
   "metadata": {},
   "outputs": [
    {
     "data": {
      "text/plain": [
       "{'T': 'frequency: 2 probability: 0.0247',\n",
       " 'h': 'frequency: 4 probability: 0.0494',\n",
       " 'i': 'frequency: 7 probability: 0.0864',\n",
       " 's': 'frequency: 6 probability: 0.0741',\n",
       " ' ': 'frequency: 11 probability: 0.1358',\n",
       " 't': 'frequency: 4 probability: 0.0494',\n",
       " 'e': 'frequency: 8 probability: 0.0988',\n",
       " 'x': 'frequency: 1 probability: 0.0123',\n",
       " 'a': 'frequency: 3 probability: 0.037',\n",
       " 'm': 'frequency: 3 probability: 0.037',\n",
       " 'p': 'frequency: 2 probability: 0.0247',\n",
       " 'l': 'frequency: 2 probability: 0.0247',\n",
       " 'f': 'frequency: 3 probability: 0.037',\n",
       " 'o': 'frequency: 6 probability: 0.0741',\n",
       " 'r': 'frequency: 3 probability: 0.037',\n",
       " 'c': 'frequency: 2 probability: 0.0247',\n",
       " 'n': 'frequency: 6 probability: 0.0741',\n",
       " 'd': 'frequency: 2 probability: 0.0247',\n",
       " 'g': 'frequency: 1 probability: 0.0123',\n",
       " 'I': 'frequency: 1 probability: 0.0123',\n",
       " 'y': 'frequency: 1 probability: 0.0123',\n",
       " '!': 'frequency: 3 probability: 0.037'}"
      ]
     },
     "execution_count": 2,
     "metadata": {},
     "output_type": "execute_result"
    }
   ],
   "source": [
    "text2 = open('example.txt','r').read()\n",
    "find_probabilities(text2)"
   ]
  },
  {
   "cell_type": "code",
   "execution_count": null,
   "metadata": {},
   "outputs": [],
   "source": []
  }
 ],
 "metadata": {
  "kernelspec": {
   "display_name": "Python 3",
   "language": "python",
   "name": "python3"
  },
  "language_info": {
   "codemirror_mode": {
    "name": "ipython",
    "version": 3
   },
   "file_extension": ".py",
   "mimetype": "text/x-python",
   "name": "python",
   "nbconvert_exporter": "python",
   "pygments_lexer": "ipython3",
   "version": "3.8.3"
  }
 },
 "nbformat": 4,
 "nbformat_minor": 4
}
