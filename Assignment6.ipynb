bit = open("bits.txt", "w")
bit.write(bits)
bit.close()

bit = open("bits.txt", "r").read()
print(f'Sequence of bits: {bit}')
print('')
final = ''
def HammingEncode(s):
    global final 
    d = '________________'
    d = list(d)
    d[3] = s[0]
    d[5] = s[1]
    d[6] = s[2]
    d[7] = s[3]
    d[9:]= s[4:]
    print()
    print(s)
    print(f'Expand the block to 16 bits: {d}')
    
    count = int(d[3]) + int(d[5]) + int(d[7]) + int(d[9])+int(d[11]) + int(d[13]) + int(d[15])

    if count % 2 == 0:
        d[1] = '0'
    else:
        d[1] = '1'
    print(f'p1: b3 + b5 + b7 + b9 + b11 + b13 + b15 = {int(d[3])} + {int(d[5])} + {int(d[7])} + {int(d[9])} + {int(d[11])} + {int(d[13])} + {int(d[15])} = {d[1]}')

    count = int(d[3]) + int(d[6]) + int(d[7]) + int(d[10])+int(d[11]) + int(d[14]) + int(d[15])
    if count % 2 == 0:
        d[2] = '0'
    else:
        d[2] = '1'
    print(f'p2: b3 + b6 + b7 + b10 + b11 + b14 + b15 = {int(d[3])} + {int(d[6])} + {int(d[7])} + {int(d[10])} + {int(d[11])} + {int(d[14])} + {int(d[15])} = {d[2]}')

    count = int(d[5]) + int(d[6]) + int(d[7]) + int(d[12])+int(d[13]) + int(d[14]) + int(d[15])
    if count % 2 == 0:
        d[4] = '0'
    else:
        d[4] = '1'
    print(f'p4: b5 + b6 + b7 + b12 + b13 + b14 + b15 = {int(d[5])} + {int(d[6])} + {int(d[7])} + {int(d[12])} + {int(d[13])} + {int(d[14])} + {int(d[15])} = {d[4]}')

    count = int(d[9]) + int(d[10]) + int(d[11]) + int(d[12])+int(d[13]) + int(d[14]) + int(d[15])
    if count % 2 == 0:
        d[8] = '0'
    else:
        d[8] = '1'
    print(f'p8: b9 + b10 + b11 + b12 + b13 + b14 + b15 = {int(d[9])} + {int(d[10])} + {int(d[11])} + {int(d[12])} + {int(d[13])} + {int(d[14])} + {int(d[15])} = {d[8]}')

    count = d.count('1')
    if count %2 == 0:
        d[0] = '0'
    else:
        d[0] = '1'
    print(f'p0: b1 + b2 + b3 + b4 + b5 + b6 + b7 + b8 + b9 + b10 + b11 + b12 + b13 + b14 + b15 = {int(d[1])} + {int(d[2])} + {int(d[3])} + {int(d[4])} + {int(d[5])} + {int(d[6])} + {int(d[7])} + {int(d[8])} + {int(d[9])} + {int(d[10])} + {int(d[11])} + {int(d[12])} + {int(d[13])} + {int(d[14])} + {int(d[15])} = {d[0]}')
    e =  ''.join(d)
    print(f'Encoded bitstring: {e}') 

    final +=  str(e)
    return ''
length = int(len(bit)/11)
remain = len(bit) - length * 11

print('Data blocks:')
if remain == 0:
    for i in range(length):
        print(f'b{i+1} {bit[(i*11):(i*11+11)]}')
    for i in range(length):
        print(HammingEncode(bit[(i*11):(i*11+11)]))
else:
    remain = 11 - remain
    last = remain * '0' + bit[(length*11):len(bit)]
    for i in range(length):
        print(f'b{i+1} {bit[(i*11):(i*11+11)]}')
    print(f'b{length + 1} {last}')
    for i in range(length):
        print(HammingEncode(bit[(i*11):(i*11+11)]))
    print(HammingEncode(last))
print('')
print(f'Encoded sequence: {final}')
print(f'Length of encoded sequence: {len(final)}')
final = ''






bit = open("bits.txt", "w")
bit.write(bits)
bit.close()

bit = open("bits.txt", "r").read()


# bit = '1001'

print(f'Sequence of bits: {bit}')
print('')
final = ''
def HammingEncode2(s):
    global final 
    d = '________'
    d = list(d)
    d[3] = s[0]
    d[5] = s[1]
    d[6] = s[2]
    d[7] = s[3]
    print()
    print(s)
    print(f'Expand the block to 8 bits: {d}')
    
    count = int(d[3]) + int(d[5]) + int(d[7])

    if count % 2 == 0:
        d[1] = '0'
    else:
        d[1] = '1'
    print(f'p1: b3 + b5 + b7 + = {int(d[3])} + {int(d[5])} + {int(d[7])}= {d[1]}')

    count = int(d[3]) + int(d[6]) + int(d[7])
    if count % 2 == 0:
        d[2] = '0'
    else:
        d[2] = '1'
    print(f'p2: b3 + b6 + b7 = {int(d[3])} + {int(d[6])} + {int(d[7])} = {d[2]}')

    count = int(d[5]) + int(d[6]) + int(d[7])
    if count % 2 == 0:
        d[4] = '0'
    else:
        d[4] = '1'
    print(f'p4: b5 + b6 + b7 = {int(d[5])} + {int(d[6])} + {int(d[7])} = {d[4]}')

    count = d.count('1')
    if count %2 == 0:
        d[0] = '0'
    else:
        d[0] = '1'
    print(f'p0: b1 + b2 + b3 + b4 + b5 + b6 + b7 = {int(d[1])} + {int(d[2])} + {int(d[3])} + {int(d[4])} + {int(d[5])} + {int(d[6])} + {int(d[7])}= {d[0]}')
    e =  ''.join(d)
    print(f'Encoded bitstring: {e}') 

    final +=  str(e)
    return ''


length = int(len(bit)/4)
remain = len(bit) - length * 4

print('Data blocks:')
if remain == 0:
    for i in range(length):
        print(f'b{i+1} {bit[(i*4):(i*4+4)]}')
    for i in range(length):
        print(HammingEncode2(bit[(i*4):(i*4+4)]))
else:
    remain = 4 - remain
    last = remain * '0' + bit[(length*4):len(bit)]
    for i in range(length):
        print(f'b{i+1} {bit[(i*4):(i*4+4)]}')
    print(f'b{length + 1} {last}')
    for i in range(length):
        print(HammingEncode2(bit[(i*4):(i*4+4)]))
    print(HammingEncode2(last))
print('')
print(f'Encoded sequence: {final}')
print(f'Length of encoded sequence: {len(final)}')
final = ''
