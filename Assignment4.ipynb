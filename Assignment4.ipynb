def decoding(node, bits):
    temp = node
    final = []
    for i in bits:
        
        if i == '1':
            temp = temp.left
        else:
            temp = temp.right
            
        if temp.left == None and temp.right == None:
            if temp.symbol == 'space':
                temp.symbol = ' '
            elif temp.symbol == 'tab':
                temp.symbol = '\t'
            elif temp.symbol == 'new line':
                temp.symbol = '\n'
            final.append(temp.symbol)
            temp = node
    print("".join(final))

decoding(tree_nodes[0], bits)
