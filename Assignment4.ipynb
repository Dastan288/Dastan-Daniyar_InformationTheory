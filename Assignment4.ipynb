text1 = open('example.txt','r').read()
def prob(text):
    len_text = int(len(text))    
    prob_chars = {}

    for i in text:
        if i == ' ':
            i = 'space'
        elif i == '\n':
            i = 'new line'
        elif i == '\t':
            i = 'tab'
        if i in prob_chars:
            prob_chars[i] += 1
        else:
            prob_chars[i] = 1
    for values in prob_chars:
        P = round((prob_chars[values] / len_text), 2)
        prob_chars[values] = P
        prob_chars = dict(sorted(prob_chars.items(), key=lambda item: item[1],reverse=True))
        
    return prob_chars
sorted_text = prob(text1)

print('Task 1')
for k, v in sorted_text.items():
    print(k + ' - '+ str(v))
print('----------------------------------------------------------------------------')

print('Task 2')
class tree:
    def __init__(self, prob, symbol, left=None, right=None):

        self.prob = prob
 
        self.symbol = symbol
    
        self.left = left
 
        self.right = right
 
        self.huff = ''
        
def treeNodes(node, val=''):
    newVal = val + str(node.huff)
 
    if(node.left):
        treeNodes(node.left, newVal)
    if(node.right):
        treeNodes(node.right, newVal)

    if(not node.left and not node.right):
        task_3.append([node.symbol, node.prob, newVal])
symbols = []
prob = []
for k, v in sorted_text.items():
    symbols.append(k)
    prob.append(v)

tree_nodes = []
 
for i in range(len(symbols)):
    tree_nodes.append(tree(prob[i], symbols[i]))
i = 1
while len(tree_nodes) > 1:
    
    tree_nodes = sorted(tree_nodes, key=lambda x: x.prob)
 
    left = tree_nodes[0]
    right = tree_nodes[1]
    
    left.huff = 1
    right.huff = 0
 
    
    print(f'Step : {i}')
    print(f'Node:{i} {left.symbol}, {right.symbol} - sum {round((left.prob + right.prob),3)}')
    
    newNode = tree(left.prob + right.prob, left.symbol + right.symbol, left, right)

    tree_nodes.remove(left)
    tree_nodes.remove(right)
    tree_nodes.append(newNode)
    i += 1
print('----------------------------------------------------------------------------')    
print('Task 3')    
task_3 =[]
treeNodes(tree_nodes[0])
task_3 = sorted(task_3,key=lambda l:l[1], reverse=True)
print('Symbol - Probability - Codeword')
for i in task_3:
    print(f'{i[0]} - {i[1]} - {i[2]}')

print('----------------------------------------------------------------------------')    

print('Task 4')
print(f'Original text: "{text1}"')
bits = ''
dictlist = {}
for i in task_3:
    dictlist[i[0]] = i[2]

for i in text1:
    if i == ' ':
        i = 'space'
    elif i == '\n':
        i = 'new line'
    elif i == '\t':
        i = 'tab'
        
    bits = bits + dictlist[i]
print('Output a sequence of binary digits: ',bits)

print('----------------------------------------------------------------------------')    

print('Task 5')


def decoding(node, bits):
    temp = node
    final = []
    for i in bits:
        
        if i == '1':
            temp = temp.left
        else:
            temp = temp.right
            
        if temp.left == None and temp.right == None:
            if temp.symbol == 'space':
                temp.symbol = ' '
            elif temp.symbol == 'tab':
                temp.symbol = '\t'
            elif temp.symbol == 'new line':
                temp.symbol = '\n'
            final.append(temp.symbol)
            temp = node
    print("".join(final))

decoding(tree_nodes[0], bits)
