text1 = open('example.txt','r').read()
len_text = int(len(text1))    
prob_chars = {}

for i in text1:
    if i == ' ':
        i = 'space'
    elif i == '\n':
        i = 'new line'
    elif i == '\t':
        i = 'tab'
    if i in prob_chars:
        prob_chars[i] += 1
    else:
        prob_chars[i] = 1
for values in prob_chars:
    P = round((prob_chars[values] / len_text), 3)
    prob_chars[values] = P
prob_chars = dict(sorted(prob_chars.items(), key=lambda item: item[1],reverse=True))
for k, v in prob_chars.items():
    print(k + ' - '+ str(v))

print('Daniyar')
